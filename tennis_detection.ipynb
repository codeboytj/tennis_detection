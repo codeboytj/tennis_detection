{
  "nbformat": 4,
  "nbformat_minor": 0,
  "metadata": {
    "colab": {
      "name": "tennis_detection.ipynb",
      "version": "0.3.2",
      "provenance": [],
      "collapsed_sections": []
    },
    "kernelspec": {
      "name": "python3",
      "display_name": "Python 3"
    },
    "accelerator": "GPU"
  },
  "cells": [
    {
      "cell_type": "code",
      "metadata": {
        "id": "CUaqYBv50UI7",
        "colab_type": "code",
        "outputId": "5994a4c3-74ad-4dce-cc9a-0450ff14c83c",
        "colab": {
          "base_uri": "https://localhost:8080/",
          "height": 121
        }
      },
      "source": [
        "import os\n",
        "from google.colab import drive\n",
        "drive.mount('/content/drive')"
      ],
      "execution_count": 0,
      "outputs": [
        {
          "output_type": "stream",
          "text": [
            "Go to this URL in a browser: https://accounts.google.com/o/oauth2/auth?client_id=947318989803-6bn6qk8qdgf4n4g3pfee6491hc0brc4i.apps.googleusercontent.com&redirect_uri=urn%3Aietf%3Awg%3Aoauth%3A2.0%3Aoob&scope=email%20https%3A%2F%2Fwww.googleapis.com%2Fauth%2Fdocs.test%20https%3A%2F%2Fwww.googleapis.com%2Fauth%2Fdrive%20https%3A%2F%2Fwww.googleapis.com%2Fauth%2Fdrive.photos.readonly%20https%3A%2F%2Fwww.googleapis.com%2Fauth%2Fpeopleapi.readonly&response_type=code\n",
            "\n",
            "Enter your authorization code:\n",
            "··········\n",
            "Mounted at /content/drive\n"
          ],
          "name": "stdout"
        }
      ]
    },
    {
      "cell_type": "markdown",
      "metadata": {
        "id": "EGOCnVo5Xgc2",
        "colab_type": "text"
      },
      "source": [
        "## Clone Tensorflow Models"
      ]
    },
    {
      "cell_type": "code",
      "metadata": {
        "id": "SsVScb4p1Z1S",
        "colab_type": "code",
        "outputId": "d6742178-4135-4ffe-a049-b737eb42bac8",
        "colab": {
          "base_uri": "https://localhost:8080/",
          "height": 102
        }
      },
      "source": [
        "!git clone https://github.com/tensorflow/models.git /content/drive/My\\ Drive/colab/tensorflow-models\n",
        "!git clone https://github.com/cocodataset/cocoapi.git /content/drive/My\\ Drive/colab/cocoapi"
      ],
      "execution_count": 0,
      "outputs": [
        {
          "output_type": "stream",
          "text": [
            "Cloning into '/content/drive/My Drive/colab/cocoapi'...\n",
            "remote: Enumerating objects: 953, done.\u001b[K\n",
            "remote: Total 953 (delta 0), reused 0 (delta 0), pack-reused 953\u001b[K\n",
            "Receiving objects: 100% (953/953), 11.70 MiB | 1.22 MiB/s, done.\n",
            "Resolving deltas: 100% (565/565), done.\n"
          ],
          "name": "stdout"
        }
      ]
    },
    {
      "cell_type": "markdown",
      "metadata": {
        "id": "IFfQ6lWIXld3",
        "colab_type": "text"
      },
      "source": [
        "## Install Object Dection"
      ]
    },
    {
      "cell_type": "code",
      "metadata": {
        "id": "bbWPCQ9bnSlS",
        "colab_type": "code",
        "colab": {}
      },
      "source": [
        "os.chdir(\"/content/drive/My Drive/colab/cocoapi/PythonAPI\")\n",
        "!make\n",
        "!cp -r pycocotools /content/drive/My\\ Drive/colab/tensorflow-models/research/"
      ],
      "execution_count": 0,
      "outputs": []
    },
    {
      "cell_type": "code",
      "metadata": {
        "id": "9oIDavCejC-8",
        "colab_type": "code",
        "colab": {}
      },
      "source": [
        "os.chdir(\"/content/drive/My Drive/colab/tensorflow-models/research\")\n",
        "!protoc object_detection/protos/*.proto --python_out=."
      ],
      "execution_count": 0,
      "outputs": []
    },
    {
      "cell_type": "code",
      "metadata": {
        "id": "7djqnM9ejoca",
        "colab_type": "code",
        "outputId": "905bdfe0-e644-4d5e-f26f-1343d4c9d960",
        "colab": {
          "base_uri": "https://localhost:8080/",
          "height": 34
        }
      },
      "source": [
        "os.environ[\"PYTHONPATH\"] = os.environ[\"PYTHONPATH\"]+\":/content/drive/My Drive/colab/tensorflow-models/research:/content/drive/My Drive/colab/tensorflow-models/research/slim\"\n",
        "!echo $PYTHONPATH"
      ],
      "execution_count": 0,
      "outputs": [
        {
          "output_type": "stream",
          "text": [
            "/env/python:/content/drive/My Drive/colab/tensorflow-models/research:/content/drive/My Drive/colab/tensorflow-models/research/slim\n"
          ],
          "name": "stdout"
        }
      ]
    },
    {
      "cell_type": "code",
      "metadata": {
        "id": "2CNovMG_jdmz",
        "colab_type": "code",
        "colab": {}
      },
      "source": [
        "# Test installation\n",
        "import os\n",
        "os.chdir(\"/content/drive/My Drive/colab/tensorflow-models/research\")\n",
        "!python object_detection/builders/model_builder_test.py"
      ],
      "execution_count": 0,
      "outputs": []
    },
    {
      "cell_type": "markdown",
      "metadata": {
        "id": "-hSiWScaRhWF",
        "colab_type": "text"
      },
      "source": [
        "## download model"
      ]
    },
    {
      "cell_type": "code",
      "metadata": {
        "id": "QwXTSSBmO6GQ",
        "colab_type": "code",
        "colab": {}
      },
      "source": [
        "os.chdir(\"/content/drive/My Drive/colab/tennis_detection/models/\")\n",
        "!wget http://download.tensorflow.org/models/object_detection/ssdlite_mobilenet_v2_coco_2018_05_09.tar.gz -O ssdlite_mobilenet_v2_coco.tar.gz\n",
        "!tar -zvxf ssdlite_mobilenet_v2_coco.tar.gz -C ssdlite_mobilenet_v2_coco\n",
        "!rm ssdlite_mobilenet_v2_coco.tar.gz"
      ],
      "execution_count": 0,
      "outputs": []
    },
    {
      "cell_type": "markdown",
      "metadata": {
        "id": "yvVS5nkeWju6",
        "colab_type": "text"
      },
      "source": [
        "## Training"
      ]
    },
    {
      "cell_type": "code",
      "metadata": {
        "id": "mYqCvzmA3Juk",
        "colab_type": "code",
        "colab": {}
      },
      "source": [
        "!python /content/drive/My\\ Drive/colab/tensorflow-models/research/object_detection/model_main.py  \\\n",
        "--pipeline_config_path=/content/drive/My\\ Drive/colab/tennis_detection/models/ssdlite_mobilenet_v2_coco/training/pipeline.config \\\n",
        "--model_dir=/content/drive/My\\ Drive/colab/tennis_detection/models/ssdlite_mobilenet_v2_coco/training  \\\n",
        "--num_train_steps=100000   \\\n",
        "--sample_1_of_n_eval_examples=1"
      ],
      "execution_count": 0,
      "outputs": []
    },
    {
      "cell_type": "markdown",
      "metadata": {
        "id": "Wuiqs9TTXIlj",
        "colab_type": "text"
      },
      "source": [
        "## Export Graph"
      ]
    },
    {
      "cell_type": "code",
      "metadata": {
        "id": "llRjkVdO-3bU",
        "colab_type": "code",
        "colab": {}
      },
      "source": [
        "!python /content/drive/My\\ Drive/colab/tensorflow-models/research/object_detection/export_inference_graph.py \\\n",
        "--input_type=image_tensor  \\\n",
        "--pipeline_config_path=/content/drive/My\\ Drive/colab/tennis_detection/models/ssdlite_mobilenet_v2_coco/training/pipeline.config  \\\n",
        "--trained_checkpoint_prefix=/content/drive/My\\ Drive/colab/tennis_detection/models/ssdlite_mobilenet_v2_coco/training/model.ckpt-100000  \\\n",
        "--output_directory=/content/drive/My\\ Drive/colab/tennis_detection/models/ssdlite_mobilenet_v2_coco/output"
      ],
      "execution_count": 0,
      "outputs": []
    },
    {
      "cell_type": "markdown",
      "metadata": {
        "id": "s14FDtsnXMNk",
        "colab_type": "text"
      },
      "source": [
        "## Export TFlite Graph"
      ]
    },
    {
      "cell_type": "code",
      "metadata": {
        "id": "6NH3Q9FVFrio",
        "colab_type": "code",
        "colab": {}
      },
      "source": [
        "!python /content/drive/My\\ Drive/colab/tensorflow-models/research/object_detection/export_tflite_ssd_graph.py \\\n",
        "--pipeline_config_path=/content/drive/My\\ Drive/colab/tennis_detection/models/ssdlite_mobilenet_v2_coco/output/pipeline.config \\\n",
        "--trained_checkpoint_prefix=/content/drive/My\\ Drive/colab/tennis_detection/models/ssdlite_mobilenet_v2_coco/output/model.ckpt \\\n",
        "--output_directory=/content/drive/My\\ Drive/colab/tennis_detection/models/ssdlite_mobilenet_v2_coco/output/tflite \\\n",
        "--add_postprocessing_op=true"
      ],
      "execution_count": 0,
      "outputs": []
    },
    {
      "cell_type": "code",
      "metadata": {
        "id": "GrHhdxro4M0x",
        "colab_type": "code",
        "colab": {}
      },
      "source": [
        "os.chdir(\"/content/drive/My Drive/colab/tennis_detection/models/ssdlite_mobilenet_v2_coco/output/\")\n",
        "!tflite_convert \\\n",
        "--graph_def_file=tflite/tflite_graph.pb \\\n",
        "--output_file=tflite/detect.tflite \\\n",
        "--output_format=TFLITE \\\n",
        "--input_shapes=1,300,300,3 \\\n",
        "--input_arrays=normalized_input_image_tensor \\\n",
        "--output_arrays='TFLite_Detection_PostProcess','TFLite_Detection_PostProcess:1','TFLite_Detection_PostProcess:2','TFLite_Detection_PostProcess:3' \\\n",
        "--inference_type=FLOAT \\\n",
        "--mean_values=128 \\\n",
        "--std_dev_values=128 \\\n",
        "--change_concat_input_ranges=false \\\n",
        "--allow_custom_ops"
      ],
      "execution_count": 0,
      "outputs": []
    }
  ]
}